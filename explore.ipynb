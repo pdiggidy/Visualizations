{
 "cells": [
  {
   "cell_type": "code",
   "execution_count": null,
   "metadata": {
    "collapsed": true
   },
   "outputs": [],
   "source": [
    "from typing import Dict, Any\n",
    "import pandas as pd\n",
    "import numpy as np\n",
    "import plotly.express as px\n",
    "\n",
    "\n",
    "import dash\n",
    "from dash import dcc\n",
    "from dash import html\n",
    "import plotly.graph_objects as go\n"
   ]
  },
  {
   "cell_type": "code",
   "execution_count": null,
   "outputs": [],
   "source": [
    "df = pd.read_csv(\"Airbnb_Open_Data.csv\", low_memory=False)"
   ],
   "metadata": {
    "collapsed": false
   }
  },
  {
   "cell_type": "code",
   "execution_count": null,
   "outputs": [],
   "source": [
    "df_clean = df\n",
    "df_clean[\"host_identity_verified\"] = df[\"host_identity_verified\"].fillna(\"unconfirmed\")  # If there's no information\n",
    "# about verification assume it's not\n",
    "df_clean[\"NAME\"] = df[\"NAME\"].fillna(\"unavailable\")  # If there's no name replace it with \"unavailable\"\n",
    "df_clean[\"host name\"] = df[\"host name\"].fillna(\"unavailable\")  # If there's no host name replace it with unavailable\n",
    "\n",
    "df_clean = df_clean.dropna(subset=[\"neighbourhood\", \"neighbourhood group\", \"long\"], how=\"all\")\n",
    "df_clean.drop(\"license\", axis=1, inplace=True)"
   ],
   "metadata": {
    "collapsed": false
   }
  },
  {
   "cell_type": "code",
   "execution_count": null,
   "outputs": [],
   "source": [
    "def is_exact(data: pd.DataFrame) -> pd.DataFrame:\n",
    "    data[\"exact\"] = data[\"long\"].notna()\n",
    "    return data\n",
    "\n",
    "\n",
    "df_clean = is_exact(df_clean)\n",
    "df_clean.dropna(subset='last review', inplace=True)\n",
    "df_clean.dropna(subset=\"review rate number\", inplace=True)\n",
    "df_clean[\"scaled\"] = df_clean[\"review rate number\"]*1000\n",
    "df_clean"
   ],
   "metadata": {
    "collapsed": false
   }
  },
  {
   "cell_type": "code",
   "execution_count": null,
   "outputs": [],
   "source": [
    "df_test = df_clean.head(500)\n",
    "px.set_mapbox_access_token(\"pk.eyJ1IjoicG5pZXJvcCIsImEiOiJjbGFxdnJkNGMwMGtuM3FwYmN5czV5NnowIn0.mYk_lZjfdsJQhxbTBsRbmw\")\n",
    "fig = px.scatter_mapbox(df_test, lat=\"lat\", lon=\"long\")# ,color=\"number of reviews\", size=\"scaled\",\n",
    "                  #color_continuous_scale=px.colors.cyclical.IceFire, size_max=3, zoom=10)\n",
    "fig.update_traces(cluster=dict(enabled=True))\n",
    "fig.show()"
   ],
   "metadata": {
    "collapsed": false
   }
  },
  {
   "cell_type": "code",
   "execution_count": null,
   "outputs": [],
   "source": [
    "app = dash.Dash()\n",
    "app.layout = dl.Map(dl.TileLayer(), style={'width': '1000px', 'height': '500px'})\n",
    "\n",
    "app.run_server()"
   ],
   "metadata": {
    "collapsed": false
   }
  },
  {
   "cell_type": "code",
   "execution_count": null,
   "outputs": [],
   "source": [],
   "metadata": {
    "collapsed": false
   }
  }
 ],
 "metadata": {
  "kernelspec": {
   "display_name": "Python 3",
   "language": "python",
   "name": "python3"
  },
  "language_info": {
   "codemirror_mode": {
    "name": "ipython",
    "version": 2
   },
   "file_extension": ".py",
   "mimetype": "text/x-python",
   "name": "python",
   "nbconvert_exporter": "python",
   "pygments_lexer": "ipython2",
   "version": "2.7.6"
  }
 },
 "nbformat": 4,
 "nbformat_minor": 0
}
