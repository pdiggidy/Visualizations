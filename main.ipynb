{
 "cells": [
  {
   "cell_type": "code",
   "execution_count": 2,
   "metadata": {
    "collapsed": true,
    "jupyter": {
     "outputs_hidden": true
    }
   },
   "outputs": [],
   "source": [
    "import jupyter_dash as dash\n",
    "import pandas as pd\n",
    "import numpy as np\n",
    "from pandas._typing import DataFrame"
   ]
  },
  {
   "cell_type": "code",
   "execution_count": 9,
   "metadata": {
    "collapsed": false,
    "jupyter": {
     "outputs_hidden": false
    }
   },
   "outputs": [
    {
     "data": {
      "text/plain": "           MOSTYPE     MAANTHUI      MGEMOMV     MGEMLEEF     MOSHOOFD  \\\ncount  9822.000000  9822.000000  9822.000000  9822.000000  9822.000000   \nmean     24.253207     1.108735     2.677561     2.996437     5.779067   \nstd      12.918058     0.412101     0.780701     0.804660     2.874148   \nmin       1.000000     1.000000     1.000000     1.000000     1.000000   \n25%      10.000000     1.000000     2.000000     2.000000     3.000000   \n50%      30.000000     1.000000     3.000000     3.000000     7.000000   \n75%      35.000000     1.000000     3.000000     3.000000     8.000000   \nmax      41.000000    10.000000     6.000000     6.000000    10.000000   \n\n            MGODRK       MGODPR       MGODOV       MGODGE       MRELGE  ...  \\\ncount  9822.000000  9822.000000  9822.000000  9822.000000  9822.000000  ...   \nmean      0.700672     4.637650     1.050092     3.262981     6.188964  ...   \nstd       1.015107     1.721212     1.011156     1.606287     1.896070  ...   \nmin       0.000000     0.000000     0.000000     0.000000     0.000000  ...   \n25%       0.000000     4.000000     0.000000     2.000000     5.000000  ...   \n50%       0.000000     5.000000     1.000000     3.000000     6.000000  ...   \n75%       1.000000     6.000000     2.000000     4.000000     7.000000  ...   \nmax       9.000000     9.000000     5.000000     9.000000     9.000000  ...   \n\n          APERSONG      AGEZONG      AWAOREG       ABRAND      AZEILPL  \\\ncount  9822.000000  9822.000000  9822.000000  9822.000000  9822.000000   \nmean      0.004582     0.007941     0.004276     0.574018     0.000916   \nstd       0.067535     0.088764     0.071224     0.561255     0.030258   \nmin       0.000000     0.000000     0.000000     0.000000     0.000000   \n25%       0.000000     0.000000     0.000000     0.000000     0.000000   \n50%       0.000000     0.000000     0.000000     1.000000     0.000000   \n75%       0.000000     0.000000     0.000000     1.000000     0.000000   \nmax       1.000000     1.000000     2.000000     7.000000     1.000000   \n\n          APLEZIER      AFIETS      AINBOED     ABYSTAND      CARAVAN  \ncount  9822.000000  9822.00000  9822.000000  9822.000000  9822.000000  \nmean      0.005091     0.03146     0.008450     0.013846     0.059662  \nstd       0.077996     0.20907     0.092647     0.117728     0.236872  \nmin       0.000000     0.00000     0.000000     0.000000     0.000000  \n25%       0.000000     0.00000     0.000000     0.000000     0.000000  \n50%       0.000000     0.00000     0.000000     0.000000     0.000000  \n75%       0.000000     0.00000     0.000000     0.000000     0.000000  \nmax       2.000000     4.00000     2.000000     2.000000     1.000000  \n\n[8 rows x 86 columns]",
      "text/html": "<div>\n<style scoped>\n    .dataframe tbody tr th:only-of-type {\n        vertical-align: middle;\n    }\n\n    .dataframe tbody tr th {\n        vertical-align: top;\n    }\n\n    .dataframe thead th {\n        text-align: right;\n    }\n</style>\n<table border=\"1\" class=\"dataframe\">\n  <thead>\n    <tr style=\"text-align: right;\">\n      <th></th>\n      <th>MOSTYPE</th>\n      <th>MAANTHUI</th>\n      <th>MGEMOMV</th>\n      <th>MGEMLEEF</th>\n      <th>MOSHOOFD</th>\n      <th>MGODRK</th>\n      <th>MGODPR</th>\n      <th>MGODOV</th>\n      <th>MGODGE</th>\n      <th>MRELGE</th>\n      <th>...</th>\n      <th>APERSONG</th>\n      <th>AGEZONG</th>\n      <th>AWAOREG</th>\n      <th>ABRAND</th>\n      <th>AZEILPL</th>\n      <th>APLEZIER</th>\n      <th>AFIETS</th>\n      <th>AINBOED</th>\n      <th>ABYSTAND</th>\n      <th>CARAVAN</th>\n    </tr>\n  </thead>\n  <tbody>\n    <tr>\n      <th>count</th>\n      <td>9822.000000</td>\n      <td>9822.000000</td>\n      <td>9822.000000</td>\n      <td>9822.000000</td>\n      <td>9822.000000</td>\n      <td>9822.000000</td>\n      <td>9822.000000</td>\n      <td>9822.000000</td>\n      <td>9822.000000</td>\n      <td>9822.000000</td>\n      <td>...</td>\n      <td>9822.000000</td>\n      <td>9822.000000</td>\n      <td>9822.000000</td>\n      <td>9822.000000</td>\n      <td>9822.000000</td>\n      <td>9822.000000</td>\n      <td>9822.00000</td>\n      <td>9822.000000</td>\n      <td>9822.000000</td>\n      <td>9822.000000</td>\n    </tr>\n    <tr>\n      <th>mean</th>\n      <td>24.253207</td>\n      <td>1.108735</td>\n      <td>2.677561</td>\n      <td>2.996437</td>\n      <td>5.779067</td>\n      <td>0.700672</td>\n      <td>4.637650</td>\n      <td>1.050092</td>\n      <td>3.262981</td>\n      <td>6.188964</td>\n      <td>...</td>\n      <td>0.004582</td>\n      <td>0.007941</td>\n      <td>0.004276</td>\n      <td>0.574018</td>\n      <td>0.000916</td>\n      <td>0.005091</td>\n      <td>0.03146</td>\n      <td>0.008450</td>\n      <td>0.013846</td>\n      <td>0.059662</td>\n    </tr>\n    <tr>\n      <th>std</th>\n      <td>12.918058</td>\n      <td>0.412101</td>\n      <td>0.780701</td>\n      <td>0.804660</td>\n      <td>2.874148</td>\n      <td>1.015107</td>\n      <td>1.721212</td>\n      <td>1.011156</td>\n      <td>1.606287</td>\n      <td>1.896070</td>\n      <td>...</td>\n      <td>0.067535</td>\n      <td>0.088764</td>\n      <td>0.071224</td>\n      <td>0.561255</td>\n      <td>0.030258</td>\n      <td>0.077996</td>\n      <td>0.20907</td>\n      <td>0.092647</td>\n      <td>0.117728</td>\n      <td>0.236872</td>\n    </tr>\n    <tr>\n      <th>min</th>\n      <td>1.000000</td>\n      <td>1.000000</td>\n      <td>1.000000</td>\n      <td>1.000000</td>\n      <td>1.000000</td>\n      <td>0.000000</td>\n      <td>0.000000</td>\n      <td>0.000000</td>\n      <td>0.000000</td>\n      <td>0.000000</td>\n      <td>...</td>\n      <td>0.000000</td>\n      <td>0.000000</td>\n      <td>0.000000</td>\n      <td>0.000000</td>\n      <td>0.000000</td>\n      <td>0.000000</td>\n      <td>0.00000</td>\n      <td>0.000000</td>\n      <td>0.000000</td>\n      <td>0.000000</td>\n    </tr>\n    <tr>\n      <th>25%</th>\n      <td>10.000000</td>\n      <td>1.000000</td>\n      <td>2.000000</td>\n      <td>2.000000</td>\n      <td>3.000000</td>\n      <td>0.000000</td>\n      <td>4.000000</td>\n      <td>0.000000</td>\n      <td>2.000000</td>\n      <td>5.000000</td>\n      <td>...</td>\n      <td>0.000000</td>\n      <td>0.000000</td>\n      <td>0.000000</td>\n      <td>0.000000</td>\n      <td>0.000000</td>\n      <td>0.000000</td>\n      <td>0.00000</td>\n      <td>0.000000</td>\n      <td>0.000000</td>\n      <td>0.000000</td>\n    </tr>\n    <tr>\n      <th>50%</th>\n      <td>30.000000</td>\n      <td>1.000000</td>\n      <td>3.000000</td>\n      <td>3.000000</td>\n      <td>7.000000</td>\n      <td>0.000000</td>\n      <td>5.000000</td>\n      <td>1.000000</td>\n      <td>3.000000</td>\n      <td>6.000000</td>\n      <td>...</td>\n      <td>0.000000</td>\n      <td>0.000000</td>\n      <td>0.000000</td>\n      <td>1.000000</td>\n      <td>0.000000</td>\n      <td>0.000000</td>\n      <td>0.00000</td>\n      <td>0.000000</td>\n      <td>0.000000</td>\n      <td>0.000000</td>\n    </tr>\n    <tr>\n      <th>75%</th>\n      <td>35.000000</td>\n      <td>1.000000</td>\n      <td>3.000000</td>\n      <td>3.000000</td>\n      <td>8.000000</td>\n      <td>1.000000</td>\n      <td>6.000000</td>\n      <td>2.000000</td>\n      <td>4.000000</td>\n      <td>7.000000</td>\n      <td>...</td>\n      <td>0.000000</td>\n      <td>0.000000</td>\n      <td>0.000000</td>\n      <td>1.000000</td>\n      <td>0.000000</td>\n      <td>0.000000</td>\n      <td>0.00000</td>\n      <td>0.000000</td>\n      <td>0.000000</td>\n      <td>0.000000</td>\n    </tr>\n    <tr>\n      <th>max</th>\n      <td>41.000000</td>\n      <td>10.000000</td>\n      <td>6.000000</td>\n      <td>6.000000</td>\n      <td>10.000000</td>\n      <td>9.000000</td>\n      <td>9.000000</td>\n      <td>5.000000</td>\n      <td>9.000000</td>\n      <td>9.000000</td>\n      <td>...</td>\n      <td>1.000000</td>\n      <td>1.000000</td>\n      <td>2.000000</td>\n      <td>7.000000</td>\n      <td>1.000000</td>\n      <td>2.000000</td>\n      <td>4.00000</td>\n      <td>2.000000</td>\n      <td>2.000000</td>\n      <td>1.000000</td>\n    </tr>\n  </tbody>\n</table>\n<p>8 rows × 86 columns</p>\n</div>"
     },
     "execution_count": 9,
     "metadata": {},
     "output_type": "execute_result"
    }
   ],
   "source": [
    "df = pd.read_csv(\"tic_data.csv\")\n",
    "df.describe()"
   ]
  },
  {
   "cell_type": "markdown",
   "metadata": {},
   "source": [
    "Analyze  the  errors  and  missing  values.  Write  a  function  to  count  how  many  missing  values  per\n",
    "attribute  and  per  entry  you  have.  Analyze  what  are  the  most  relevant  missing  values  that  might\n",
    "hinder the analysis according to you."
   ]
  },
  {
   "cell_type": "code",
   "execution_count": 14,
   "metadata": {
    "collapsed": false,
    "jupyter": {
     "outputs_hidden": false
    }
   },
   "outputs": [
    {
     "data": {
      "text/plain": "{'ORIGIN': 5822,\n 'MOSTYPE': 0,\n 'MAANTHUI': 0,\n 'MGEMOMV': 0,\n 'MGEMLEEF': 0,\n 'MOSHOOFD': 0,\n 'MGODRK': 5420,\n 'MGODPR': 127,\n 'MGODOV': 3460,\n 'MGODGE': 773,\n 'MRELGE': 108,\n 'MRELSA': 4185,\n 'MRELOV': 1981,\n 'MFALLEEN': 2916,\n 'MFGEKIND': 613,\n 'MFWEKIND': 243,\n 'MOPLHOOG': 3621,\n 'MOPLMIDD': 711,\n 'MOPLLAAG': 494,\n 'MBERHOOG': 2576,\n 'MBERZELF': 7031,\n 'MBERBOER': 6985,\n 'MBERMIDD': 1164,\n 'MBERARBG': 1995,\n 'MBERARBO': 1636,\n 'MSKA': 2871,\n 'MSKB1': 2275,\n 'MSKB2': 1694,\n 'MSKC': 634,\n 'MSKD': 4376,\n 'MHHUUR': 1663,\n 'MHKOOP': 1255,\n 'MAUT1': 30,\n 'MAUT2': 3078,\n 'MAUT0': 2475,\n 'MZFONDS': 109,\n 'MZPART': 1436,\n 'MINKM30': 2164,\n 'MINK3045': 782,\n 'MINK4575': 1505,\n 'MINK7512': 5464,\n 'MINK123M': 8253,\n 'MINKGEM': 38,\n 'MKOOPKLA': 0,\n 'PWAPART': 5903,\n 'PWABEDR': 9688,\n 'PWALAND': 9613,\n 'PPERSAUT': 4825,\n 'PBESAUT': 9730,\n 'PMOTSCO': 9460,\n 'PVRAAUT': 9808,\n 'PAANHANG': 9719,\n 'PTRACTOR': 9576,\n 'PWERKT': 9790,\n 'PBROM': 9150,\n 'PLEVEN': 9308,\n 'PPERSONG': 9777,\n 'PGEZONG': 9744,\n 'PWAOREG': 9784,\n 'PBRAND': 4464,\n 'PZEILPL': 9813,\n 'PPLEZIER': 9777,\n 'PFIETS': 9573,\n 'PINBOED': 9740,\n 'PBYSTAND': 9687,\n 'AWAPART': 5903,\n 'AWABEDR': 9688,\n 'AWALAND': 9613,\n 'APERSAUT': 4825,\n 'ABESAUT': 9730,\n 'AMOTSCO': 9460,\n 'AVRAAUT': 9808,\n 'AAANHANG': 9719,\n 'ATRACTOR': 9576,\n 'AWERKT': 9790,\n 'ABROM': 9150,\n 'ALEVEN': 9308,\n 'APERSONG': 9777,\n 'AGEZONG': 9744,\n 'AWAOREG': 9784,\n 'ABRAND': 4464,\n 'AZEILPL': 9813,\n 'APLEZIER': 9777,\n 'AFIETS': 9573,\n 'AINBOED': 9740,\n 'ABYSTAND': 9687,\n 'CARAVAN': 9236}"
     },
     "execution_count": 14,
     "metadata": {},
     "output_type": "execute_result"
    }
   ],
   "source": [
    "def count_nan(df: DataFrame)-> DataFrame :\n",
    "    output = {}\n",
    "    for i in df.columns:\n",
    "        try:\n",
    "            output[i] = df[i].value_counts()[0]\n",
    "        except KeyError as e:\n",
    "            output[i] = 0\n",
    "    return output\n",
    "count_nan(df)"
   ]
  },
  {
   "cell_type": "code",
   "execution_count": null,
   "outputs": [],
   "source": [],
   "metadata": {
    "collapsed": false
   }
  }
 ],
 "metadata": {
  "kernelspec": {
   "display_name": "Python 3 (ipykernel)",
   "language": "python",
   "name": "python3"
  },
  "language_info": {
   "codemirror_mode": {
    "name": "ipython",
    "version": 3
   },
   "file_extension": ".py",
   "mimetype": "text/x-python",
   "name": "python",
   "nbconvert_exporter": "python",
   "pygments_lexer": "ipython3",
   "version": "3.11.0"
  }
 },
 "nbformat": 4,
 "nbformat_minor": 4
}
